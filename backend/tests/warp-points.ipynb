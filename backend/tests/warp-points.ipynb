{
 "cells": [
  {
   "cell_type": "code",
   "execution_count": 14,
   "metadata": {
    "collapsed": true,
    "pycharm": {
     "name": "#%%\n"
    }
   },
   "outputs": [],
   "source": [
    "import cv2\n",
    "import numpy as np"
   ]
  },
  {
   "cell_type": "code",
   "execution_count": 30,
   "outputs": [],
   "source": [
    "r_width, r_height = 500, 700\n",
    "\n",
    "img1 = cv2.resize(cv2.imread(\"per-1.jpg\"), (r_width, r_height), interpolation=cv2.INTER_AREA)\n",
    "img2 = cv2.resize(cv2.imread(\"per-2.jpg\"), (r_width, r_height), interpolation=cv2.INTER_AREA)\n",
    "coord1, coord2 = (160, 230), (260, 570)"
   ],
   "metadata": {
    "collapsed": false,
    "pycharm": {
     "name": "#%%\n"
    }
   }
  },
  {
   "cell_type": "code",
   "execution_count": 31,
   "outputs": [],
   "source": [
    "green = (0, 255, 0)\n",
    "point_img_1 = cv2.circle(img1, coord1, 10, green, thickness=-1)\n",
    "point_img_2 = cv2.circle(img2, coord2, 10, green, thickness=-1)\n",
    "cv2.imshow(\"Image 1 Point: \", point_img_1)\n",
    "cv2.imshow(\"Image 2 Point: \", point_img_2)\n",
    "cv2.waitKey(0)\n",
    "cv2.destroyAllWindows()"
   ],
   "metadata": {
    "collapsed": false,
    "pycharm": {
     "name": "#%%\n"
    }
   }
  },
  {
   "cell_type": "code",
   "execution_count": 13,
   "outputs": [
    {
     "name": "stdout",
     "output_type": "stream",
     "text": [
      "baf\n"
     ]
    }
   ],
   "source": [
    "stitchy = cv2.Stitcher.create()\n",
    "(succ, output) = stitchy.stitch([point_img_1, img1])\n",
    "if succ != cv2.STITCHER_OK:\n",
    "    print(\"baf\")\n",
    "else:\n",
    "    cv2.imshow(\"Stitched Output:\", output)\n",
    "    cv2.waitKey(0)\n",
    "    cv2.destroyAllWindows()"
   ],
   "metadata": {
    "collapsed": false,
    "pycharm": {
     "name": "#%%\n"
    }
   }
  },
  {
   "cell_type": "code",
   "execution_count": 32,
   "outputs": [],
   "source": [
    "g_im1, g_im2 = cv2.cvtColor(img1, cv2.COLOR_BGR2GRAY), cv2.cvtColor(img2, cv2.COLOR_BGR2GRAY)\n",
    "sz = img1.shape\n",
    "warp_mode = cv2.MOTION_AFFINE\n",
    "warp_matrix = np.eye(2, 3, dtype=np.float32)\n",
    "num_iter = 1000\n",
    "termination_eps = 1e-10\n",
    "criteria = (cv2.TERM_CRITERIA_EPS | cv2.TERM_CRITERIA_COUNT, num_iter, termination_eps)\n",
    "(cc, warp_matrix) = cv2.findTransformECC(g_im1, g_im2, warp_matrix, warp_mode, criteria)"
   ],
   "metadata": {
    "collapsed": false,
    "pycharm": {
     "name": "#%%\n"
    }
   }
  },
  {
   "cell_type": "code",
   "execution_count": 33,
   "outputs": [
    {
     "data": {
      "text/plain": "array([[  1.032571  ,  -0.08320466,  16.524141  ],\n       [  0.02578139,   0.93323225, -11.043335  ]], dtype=float32)"
     },
     "execution_count": 33,
     "metadata": {},
     "output_type": "execute_result"
    }
   ],
   "source": [
    "warp_matrix"
   ],
   "metadata": {
    "collapsed": false,
    "pycharm": {
     "name": "#%%\n"
    }
   }
  },
  {
   "cell_type": "code",
   "execution_count": 34,
   "outputs": [],
   "source": [
    "trans_c1 = np.matmul(warp_matrix, np.asarray(list(coord1) + [1]).reshape((3, 1)))"
   ],
   "metadata": {
    "collapsed": false,
    "pycharm": {
     "name": "#%%\n"
    }
   }
  },
  {
   "cell_type": "code",
   "execution_count": 35,
   "outputs": [],
   "source": [
    "doubly_point = cv2.circle(point_img_2, trans_c1.reshape((2,)).astype(\"uint8\"), 10, green, thickness=-1)\n",
    "cv2.imshow(\":D\", doubly_point)\n",
    "cv2.waitKey(0)\n",
    "cv2.destroyAllWindows()"
   ],
   "metadata": {
    "collapsed": false,
    "pycharm": {
     "name": "#%%\n"
    }
   }
  },
  {
   "cell_type": "code",
   "execution_count": 21,
   "outputs": [
    {
     "data": {
      "text/plain": "array([[162],\n       [207]], dtype=uint8)"
     },
     "execution_count": 21,
     "metadata": {},
     "output_type": "execute_result"
    }
   ],
   "source": [
    "trans_c1.astype(\"uint8\")"
   ],
   "metadata": {
    "collapsed": false,
    "pycharm": {
     "name": "#%%\n"
    }
   }
  }
 ],
 "metadata": {
  "kernelspec": {
   "display_name": "Python 3",
   "language": "python",
   "name": "python3"
  },
  "language_info": {
   "codemirror_mode": {
    "name": "ipython",
    "version": 2
   },
   "file_extension": ".py",
   "mimetype": "text/x-python",
   "name": "python",
   "nbconvert_exporter": "python",
   "pygments_lexer": "ipython2",
   "version": "2.7.6"
  }
 },
 "nbformat": 4,
 "nbformat_minor": 0
}